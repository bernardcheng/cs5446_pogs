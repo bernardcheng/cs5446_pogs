{
 "cells": [
  {
   "cell_type": "code",
   "execution_count": 1,
   "metadata": {},
   "outputs": [
    {
     "name": "stderr",
     "output_type": "stream",
     "text": [
      "/Users/wenyuxue/opt/anaconda3/lib/python3.9/site-packages/gymnasium/utils/passive_env_checker.py:29: UserWarning: \u001b[33mWARN: It seems a Box observation space is an image but the `dtype` is not `np.uint8`, actual type: float32. If the Box observation space is not an image, we recommend flattening the observation to have only a 1D vector.\u001b[0m\n",
      "  logger.warn(\n",
      "/Users/wenyuxue/opt/anaconda3/lib/python3.9/site-packages/gymnasium/utils/passive_env_checker.py:34: UserWarning: \u001b[33mWARN: It seems a Box observation space is an image but the lower and upper bounds are not [0, 255]. Actual lower bound: -1.0, upper bound: 1.0. Generally, CNN policies assume observations are within that range, so you may encounter an issue if the observation values are not.\u001b[0m\n",
      "  logger.warn(\n"
     ]
    }
   ],
   "source": [
    "import gymnasium as gym\n",
    "from pogema import GridConfig\n",
    "from stable_baselines3 import PPO\n",
    "from stable_baselines3.common.evaluation import evaluate_policy\n",
    "\n",
    "%load_ext autoreload\n",
    "%autoreload 2\n",
    "%matplotlib inline\n",
    "\n",
    "grid_config = GridConfig(\n",
    "    size=8,\n",
    "    density=0.3,\n",
    "    num_agents=1,\n",
    "    max_episode_steps=30\n",
    ")\n",
    "\n",
    "env = gym.make(\"Pogema-v0\",grid_config=grid_config)"
   ]
  },
  {
   "cell_type": "code",
   "execution_count": null,
   "metadata": {},
   "outputs": [],
   "source": [
    "ppo_model = PPO(\n",
    "    \"MlpPolicy\",\n",
    "    env,\n",
    "    verbose=1,\n",
    "    gamma=0.99,\n",
    "    batch_size=128,\n",
    "    learning_rate=4e-3,\n",
    "    policy_kwargs=dict(net_arch=[256, 256]),\n",
    "    seed=42,\n",
    ")"
   ]
  },
  {
   "cell_type": "code",
   "execution_count": null,
   "metadata": {},
   "outputs": [],
   "source": [
    "# Evaluate untrained agent using separate env\n",
    "\n",
    "val_env = gym.make(\"Pogema-v0\",grid_config=grid_config)\n",
    "\n",
    "val_ppo_model = PPO(\n",
    "    \"MlpPolicy\",\n",
    "    val_env,\n",
    "    verbose=1,\n",
    "    gamma=0.99,\n",
    "    batch_size=128,\n",
    "    learning_rate=4e-3,\n",
    "    policy_kwargs=dict(net_arch=[256, 256]),\n",
    "    seed=42,\n",
    ")\n",
    "\n",
    "mean_reward, std_reward = evaluate_policy(\n",
    "    val_ppo_model,\n",
    "    val_ppo_model.get_env(),\n",
    "    deterministic=True,\n",
    "    n_eval_episodes=20,\n",
    ")\n",
    "\n",
    "print(f\"mean_reward: {mean_reward:.2f} +/- {std_reward:.2f}\")"
   ]
  },
  {
   "cell_type": "code",
   "execution_count": null,
   "metadata": {},
   "outputs": [],
   "source": [
    "# Train agent and save it\n",
    "ppo_model.learn(total_timesteps=int(1.2e5))\n",
    "ppo_model.save(\"saved/ppo_baseline\")"
   ]
  },
  {
   "cell_type": "code",
   "execution_count": null,
   "metadata": {},
   "outputs": [],
   "source": [
    "# Train agent and save it\n",
    "ppo_model.learn(total_timesteps=int(1.2e5))\n",
    "ppo_model.save(\"saved/ppo_baseline\")"
   ]
  },
  {
   "cell_type": "markdown",
   "metadata": {},
   "source": [
    "#### Load trained agent and evaluate it"
   ]
  },
  {
   "cell_type": "code",
   "execution_count": null,
   "metadata": {},
   "outputs": [],
   "source": [
    "ppo_model = PPO.load(\"saved/ppo_baseline\")\n",
    "\n",
    "env.reset()\n",
    "\n",
    "mean_reward, std_reward = evaluate_policy(ppo_model, env, deterministic=True, n_eval_episodes=20)\n",
    "print(f\"mean_reward:{mean_reward:.2f} +/- {std_reward:.2f}\")"
   ]
  },
  {
   "cell_type": "markdown",
   "metadata": {},
   "source": [
    "#### Evaluation Metric\n",
    "-  Agent success rate (How often agent reaches the goal state )\n",
    "-  Steps to Termination (Avg steps to termination)"
   ]
  },
  {
   "cell_type": "code",
   "execution_count": null,
   "metadata": {},
   "outputs": [],
   "source": [
    "def evaluate_success_rate(model, env, num_episodes=10):\n",
    "    success_count = 0\n",
    "    step_array = []\n",
    "    for _ in range(num_episodes):\n",
    "        obs = env.reset()\n",
    "\n",
    "        # Check if observation is a tuple and extract the first element if true.\n",
    "        if isinstance(obs, tuple):\n",
    "            obs = obs[0]\n",
    "        max_step = 100\n",
    "        steps_taken = 0\n",
    "        done = truncated = False\n",
    "        while not done and max_step > 0:\n",
    "            action, _ = model.predict(obs)\n",
    "            next_obs, reward, done, truncated, info = env.step(action)\n",
    "            print(action,max_step,success_count,done)\n",
    "            max_step -= 1\n",
    "            steps_taken += 1\n",
    "            # Check if next_obs is a tuple and extract the first element if true.\n",
    "            if isinstance(next_obs, tuple):\n",
    "                next_obs = next_obs[0]\n",
    "            obs = next_obs\n",
    "\n",
    "            # Check if agent was successful in that episode.\n",
    "            if done:\n",
    "                success_count += 1\n",
    "                step_array.append(steps_taken)\n",
    "                break\n",
    "\n",
    "    success_rate = success_count / num_episodes\n",
    "    return success_rate, step_array\n",
    "\n",
    "success_rate,step_array = evaluate_success_rate(ppo_model, env)\n",
    "print(f\"Agent Success Rate: {success_rate * 100:.2f}%\")\n",
    "print(f\"steps to termination : {step_array}\")"
   ]
  }
 ],
 "metadata": {
  "kernelspec": {
   "display_name": "cs5246",
   "language": "python",
   "name": "cs5246"
  },
  "language_info": {
   "name": "python",
   "version": "3.9.18"
  }
 },
 "nbformat": 4,
 "nbformat_minor": 2
}
