{
 "cells": [
  {
   "cell_type": "code",
   "execution_count": 45,
   "metadata": {},
   "outputs": [
    {
     "name": "stdout",
     "output_type": "stream",
     "text": [
      "The autoreload extension is already loaded. To reload it, use:\n",
      "  %reload_ext autoreload\n"
     ]
    },
    {
     "name": "stderr",
     "output_type": "stream",
     "text": [
      "/Users/aditya/miniconda3/envs/pogema/lib/python3.9/site-packages/gymnasium/utils/passive_env_checker.py:29: UserWarning: \u001b[33mWARN: It seems a Box observation space is an image but the `dtype` is not `np.uint8`, actual type: float32. If the Box observation space is not an image, we recommend flattening the observation to have only a 1D vector.\u001b[0m\n",
      "  logger.warn(\n",
      "/Users/aditya/miniconda3/envs/pogema/lib/python3.9/site-packages/gymnasium/utils/passive_env_checker.py:34: UserWarning: \u001b[33mWARN: It seems a Box observation space is an image but the lower and upper bounds are not [0, 255]. Actual lower bound: -1.0, upper bound: 1.0. Generally, CNN policies assume observations are within that range, so you may encounter an issue if the observation values are not.\u001b[0m\n",
      "  logger.warn(\n"
     ]
    }
   ],
   "source": [
    "import gymnasium as gym\n",
    "from pogema import GridConfig\n",
    "from stable_baselines3 import DQN\n",
    "from stable_baselines3.common.evaluation import evaluate_policy\n",
    "\n",
    "%load_ext autoreload\n",
    "%autoreload 2\n",
    "%matplotlib inline\n",
    "\n",
    "grid_config = GridConfig(\n",
    "    size=8,\n",
    "    density=0.3,\n",
    "    num_agents=1,\n",
    "    max_episode_steps=30\n",
    ")\n",
    "\n",
    "env = gym.make(\"Pogema-v0\",grid_config=grid_config)"
   ]
  },
  {
   "cell_type": "markdown",
   "metadata": {},
   "source": [
    "### DQN\n",
    "\n",
    "Sources: \n",
    "\n",
    "* https://github.com/Stable-Baselines-Team/rl-colab-notebooks/blob/sb3/dqn_sb3.ipynb\n",
    "* https://github.com/araffin/rl-tutorial-jnrr19/blob/sb3/1_getting_started.ipynb"
   ]
  },
  {
   "cell_type": "code",
   "execution_count": 46,
   "metadata": {},
   "outputs": [
    {
     "name": "stdout",
     "output_type": "stream",
     "text": [
      "Using cpu device\n",
      "Wrapping the env with a `Monitor` wrapper\n",
      "Wrapping the env in a DummyVecEnv.\n"
     ]
    }
   ],
   "source": [
    "dqn_model = DQN(\n",
    "    \"MlpPolicy\",\n",
    "    env,\n",
    "    verbose=1,\n",
    "    train_freq=16,\n",
    "    gradient_steps=8,\n",
    "    gamma=0.99,\n",
    "    exploration_fraction=0.2,\n",
    "    exploration_final_eps=0.07,\n",
    "    target_update_interval=600,\n",
    "    learning_starts=1000,\n",
    "    buffer_size=10000,\n",
    "    batch_size=128,\n",
    "    learning_rate=4e-3,\n",
    "    policy_kwargs=dict(net_arch=[256, 256]),\n",
    "    seed=42,\n",
    ")"
   ]
  },
  {
   "cell_type": "code",
   "execution_count": 47,
   "metadata": {},
   "outputs": [
    {
     "name": "stdout",
     "output_type": "stream",
     "text": [
      "Using cpu device\n",
      "Wrapping the env with a `Monitor` wrapper\n",
      "Wrapping the env in a DummyVecEnv.\n",
      "mean_reward: 0.00 +/- 0.00\n"
     ]
    }
   ],
   "source": [
    "# Evaluate untrained agent using separate env\n",
    "\n",
    "val_env = gym.make(\"Pogema-v0\",grid_config=grid_config)\n",
    "\n",
    "val_dqn_model = DQN(\n",
    "    \"MlpPolicy\",\n",
    "    val_env,\n",
    "    verbose=1,\n",
    "    train_freq=16,\n",
    "    gradient_steps=8,\n",
    "    gamma=0.99,\n",
    "    exploration_fraction=0.2,\n",
    "    exploration_final_eps=0.07,\n",
    "    target_update_interval=600,\n",
    "    learning_starts=1000,\n",
    "    buffer_size=10000,\n",
    "    batch_size=128,\n",
    "    learning_rate=4e-3,\n",
    "    policy_kwargs=dict(net_arch=[256, 256]),\n",
    "    seed=42,\n",
    ")\n",
    "\n",
    "mean_reward, std_reward = evaluate_policy(\n",
    "    val_dqn_model,\n",
    "    val_dqn_model.get_env(),\n",
    "    deterministic=True,\n",
    "    n_eval_episodes=20,\n",
    ")\n",
    "\n",
    "print(f\"mean_reward: {mean_reward:.2f} +/- {std_reward:.2f}\")"
   ]
  },
  {
   "cell_type": "code",
   "execution_count": null,
   "metadata": {},
   "outputs": [],
   "source": [
    "# Train agent and save it\n",
    "dqn_model.learn(total_timesteps=int(1.2e5))\n",
    "dqn_model.save(\"saved/dqn_baseline\")"
   ]
  },
  {
   "cell_type": "markdown",
   "metadata": {},
   "source": [
    "### Load trained agent and evaluate it"
   ]
  },
  {
   "cell_type": "code",
   "execution_count": 50,
   "metadata": {},
   "outputs": [
    {
     "name": "stdout",
     "output_type": "stream",
     "text": [
      "mean_reward:0.05 +/- 0.22\n"
     ]
    }
   ],
   "source": [
    "dqn_model = DQN.load(\"saved/dqn_baseline\")\n",
    "\n",
    "env.reset()\n",
    "\n",
    "mean_reward, std_reward = evaluate_policy(dqn_model, env, deterministic=True, n_eval_episodes=20)\n",
    "print(f\"mean_reward:{mean_reward:.2f} +/- {std_reward:.2f}\")"
   ]
  },
  {
   "cell_type": "markdown",
   "metadata": {},
   "source": [
    "### Video Recording"
   ]
  },
  {
   "cell_type": "code",
   "execution_count": 59,
   "metadata": {},
   "outputs": [
    {
     "name": "stdout",
     "output_type": "stream",
     "text": [
      "0\n",
      "4\n",
      "1\n",
      "2\n",
      "0\n",
      "2\n",
      "4\n",
      "1\n",
      "3\n",
      "2\n",
      "4\n",
      "0\n",
      "1\n",
      "0\n",
      "1\n",
      "1\n",
      "3\n",
      "0\n",
      "0\n",
      "3\n",
      "3\n",
      "1\n",
      "3\n",
      "3\n",
      "0\n",
      "2\n",
      "1\n",
      "2\n",
      "3\n",
      "1\n",
      "4\n",
      "4\n",
      "1\n",
      "4\n",
      "1\n",
      "1\n",
      "3\n",
      "4\n",
      "4\n",
      "0\n",
      "1\n",
      "3\n",
      "3\n",
      "0\n",
      "0\n",
      "1\n",
      "0\n",
      "3\n",
      "0\n",
      "1\n",
      "2\n",
      "0\n",
      "4\n",
      "4\n",
      "1\n",
      "2\n",
      "3\n",
      "0\n",
      "0\n",
      "3\n",
      "2\n",
      "4\n",
      "3\n",
      "2\n",
      "3\n",
      "4\n",
      "3\n",
      "3\n",
      "4\n",
      "1\n",
      "2\n",
      "0\n",
      "1\n",
      "0\n",
      "1\n",
      "2\n",
      "0\n",
      "0\n",
      "2\n",
      "4\n",
      "2\n",
      "3\n",
      "4\n",
      "0\n",
      "1\n",
      "3\n",
      "4\n",
      "3\n",
      "0\n",
      "3\n",
      "1\n",
      "4\n",
      "2\n",
      "1\n",
      "2\n",
      "0\n",
      "3\n",
      "2\n",
      "1\n",
      "1\n"
     ]
    }
   ],
   "source": [
    "from IPython.display import SVG, display\n",
    "from pogema.animation import AnimationMonitor, AnimationConfig\n",
    "\n",
    "env = AnimationMonitor(env)\n",
    "\n",
    "obs, info = env.reset()\n",
    "\n",
    "# terminated = truncated = [False, ...]\n",
    "\n",
    "# while not all(terminated) and not all(truncated):\n",
    "#     # Use random policy to make actions\n",
    "#     obs, reward, terminated, truncated, info = env.step([env.action_space.sample() for _ in range(grid_config.num_agents)])\n",
    "\n",
    "terminated = truncated = [False, ...]\n",
    "\n",
    "c = 100\n",
    "while c>0:\n",
    "    # Use random policy to make actions\n",
    "    print(env.action_space.sample())\n",
    "    obs, reward, terminated, truncated, info = env.step(env.action_space.sample())\n",
    "    c-=1"
   ]
  },
  {
   "cell_type": "code",
   "execution_count": 60,
   "metadata": {},
   "outputs": [
    {
     "data": {
      "image/svg+xml": [
       "<svg xmlns=\"http://www.w3.org/2000/svg\" xmlns:xlink=\"http://www.w3.org/1999/xlink\" width=\"190\" height=\"190\" viewBox=\"0 -1900 1900 1900\">\n",
       "\n",
       "<defs>\n",
       "\n",
       "</defs>\n",
       "\n",
       "<rect fill=\"#84A1AE\" height=\"70\" opacity=\"0.2\" rx=\"15\" width=\"70\" x=\"465\" y=\"-535\"> <animate attributeName=\"opacity\" dur=\"0.8400000000000001s\" keyTimes=\"0.0;0.25;1.0\" repeatCount=\"indefinite\" values=\"0.2;0.2;0.2\"/> </rect>\n",
       "<rect fill=\"#84A1AE\" height=\"70\" opacity=\"0.2\" rx=\"15\" width=\"70\" x=\"465\" y=\"-635\"> <animate attributeName=\"opacity\" dur=\"0.8400000000000001s\" keyTimes=\"0.0;0.25;1.0\" repeatCount=\"indefinite\" values=\"0.2;0.2;0.2\"/> </rect>\n",
       "<rect fill=\"#84A1AE\" height=\"70\" opacity=\"0.2\" rx=\"15\" width=\"70\" x=\"465\" y=\"-735\"> <animate attributeName=\"opacity\" dur=\"0.8400000000000001s\" keyTimes=\"0.0;0.25;1.0\" repeatCount=\"indefinite\" values=\"0.2;0.2;0.2\"/> </rect>\n",
       "<rect fill=\"#84A1AE\" height=\"70\" opacity=\"0.2\" rx=\"15\" width=\"70\" x=\"465\" y=\"-835\"> <animate attributeName=\"opacity\" dur=\"0.8400000000000001s\" keyTimes=\"0.0;0.25;1.0\" repeatCount=\"indefinite\" values=\"0.2;0.2;0.2\"/> </rect>\n",
       "<rect fill=\"#84A1AE\" height=\"70\" opacity=\"0.2\" rx=\"15\" width=\"70\" x=\"465\" y=\"-935\"> <animate attributeName=\"opacity\" dur=\"0.8400000000000001s\" keyTimes=\"0.0;0.25;1.0\" repeatCount=\"indefinite\" values=\"0.2;0.2;0.2\"/> </rect>\n",
       "<rect fill=\"#84A1AE\" height=\"70\" opacity=\"0.2\" rx=\"15\" width=\"70\" x=\"465\" y=\"-1035\"> <animate attributeName=\"opacity\" dur=\"0.8400000000000001s\" keyTimes=\"0.0;0.25;1.0\" repeatCount=\"indefinite\" values=\"0.2;0.2;0.2\"/> </rect>\n",
       "<rect fill=\"#84A1AE\" height=\"70\" opacity=\"0.2\" rx=\"15\" width=\"70\" x=\"465\" y=\"-1135\"> <animate attributeName=\"opacity\" dur=\"0.8400000000000001s\" keyTimes=\"0.0;0.25;1.0\" repeatCount=\"indefinite\" values=\"0.2;0.2;0.2\"/> </rect>\n",
       "<rect fill=\"#84A1AE\" height=\"70\" opacity=\"0.2\" rx=\"15\" width=\"70\" x=\"465\" y=\"-1235\"> <animate attributeName=\"opacity\" dur=\"0.8400000000000001s\" keyTimes=\"0.0;0.25;1.0\" repeatCount=\"indefinite\" values=\"0.2;0.2;0.2\"/> </rect>\n",
       "<rect fill=\"#84A1AE\" height=\"70\" opacity=\"0.2\" rx=\"15\" width=\"70\" x=\"465\" y=\"-1335\"> <animate attributeName=\"opacity\" dur=\"0.8400000000000001s\" keyTimes=\"0.0;0.25;1.0\" repeatCount=\"indefinite\" values=\"0.2;0.2;0.2\"/> </rect>\n",
       "<rect fill=\"#84A1AE\" height=\"70\" opacity=\"0.2\" rx=\"15\" width=\"70\" x=\"465\" y=\"-1435\"> <animate attributeName=\"opacity\" dur=\"0.8400000000000001s\" keyTimes=\"0.0;0.25;1.0\" repeatCount=\"indefinite\" values=\"0.2;0.2;0.2\"/> </rect>\n",
       "<rect fill=\"#84A1AE\" height=\"70\" opacity=\"0.2\" rx=\"15\" width=\"70\" x=\"565\" y=\"-535\"> <animate attributeName=\"opacity\" dur=\"0.8400000000000001s\" keyTimes=\"0.0;0.25;1.0\" repeatCount=\"indefinite\" values=\"0.2;0.2;0.2\"/> </rect>\n",
       "<rect fill=\"#84A1AE\" height=\"70\" opacity=\"0.2\" rx=\"15\" width=\"70\" x=\"565\" y=\"-835\"> <animate attributeName=\"opacity\" dur=\"0.8400000000000001s\" keyTimes=\"0.0;0.25;1.0\" repeatCount=\"indefinite\" values=\"0.2;0.2;0.2\"/> </rect>\n",
       "<rect fill=\"#84A1AE\" height=\"70\" opacity=\"0.2\" rx=\"15\" width=\"70\" x=\"565\" y=\"-935\"> <animate attributeName=\"opacity\" dur=\"0.8400000000000001s\" keyTimes=\"0.0;0.25;1.0\" repeatCount=\"indefinite\" values=\"0.2;0.2;0.2\"/> </rect>\n",
       "<rect fill=\"#84A1AE\" height=\"70\" opacity=\"0.2\" rx=\"15\" width=\"70\" x=\"565\" y=\"-1035\"> <animate attributeName=\"opacity\" dur=\"0.8400000000000001s\" keyTimes=\"0.0;0.25;1.0\" repeatCount=\"indefinite\" values=\"0.2;0.2;0.2\"/> </rect>\n",
       "<rect fill=\"#84A1AE\" height=\"70\" opacity=\"0.2\" rx=\"15\" width=\"70\" x=\"565\" y=\"-1235\"> <animate attributeName=\"opacity\" dur=\"0.8400000000000001s\" keyTimes=\"0.0;0.25;1.0\" repeatCount=\"indefinite\" values=\"0.2;0.2;0.2\"/> </rect>\n",
       "<rect fill=\"#84A1AE\" height=\"70\" opacity=\"0.2\" rx=\"15\" width=\"70\" x=\"565\" y=\"-1435\"> <animate attributeName=\"opacity\" dur=\"0.8400000000000001s\" keyTimes=\"0.0;0.25;1.0\" repeatCount=\"indefinite\" values=\"0.2;0.2;0.2\"/> </rect>\n",
       "<rect fill=\"#84A1AE\" height=\"70\" opacity=\"0.2\" rx=\"15\" width=\"70\" x=\"665\" y=\"-535\"> <animate attributeName=\"opacity\" dur=\"0.8400000000000001s\" keyTimes=\"0.0;0.25;1.0\" repeatCount=\"indefinite\" values=\"0.2;0.2;0.2\"/> </rect>\n",
       "<rect fill=\"#84A1AE\" height=\"70\" opacity=\"0.2\" rx=\"15\" width=\"70\" x=\"665\" y=\"-635\"> <animate attributeName=\"opacity\" dur=\"0.8400000000000001s\" keyTimes=\"0.0;0.25;0.5;1.0\" repeatCount=\"indefinite\" values=\"0.2;0.2;1.0;1.0\"/> </rect>\n",
       "<rect fill=\"#84A1AE\" height=\"70\" rx=\"15\" width=\"70\" x=\"665\" y=\"-835\"> <animate attributeName=\"opacity\" dur=\"0.8400000000000001s\" keyTimes=\"0.0;0.25;1.0\" repeatCount=\"indefinite\" values=\"1.0;1.0;1.0\"/> </rect>\n",
       "<rect fill=\"#84A1AE\" height=\"70\" rx=\"15\" width=\"70\" x=\"665\" y=\"-1035\"> <animate attributeName=\"opacity\" dur=\"0.8400000000000001s\" keyTimes=\"0.0;0.25;1.0\" repeatCount=\"indefinite\" values=\"1.0;1.0;1.0\"/> </rect>\n",
       "<rect fill=\"#84A1AE\" height=\"70\" rx=\"15\" width=\"70\" x=\"665\" y=\"-1435\"> <animate attributeName=\"opacity\" dur=\"0.8400000000000001s\" keyTimes=\"0.0;0.25;1.0\" repeatCount=\"indefinite\" values=\"1.0;1.0;1.0\"/> </rect>\n",
       "<rect fill=\"#84A1AE\" height=\"70\" opacity=\"0.2\" rx=\"15\" width=\"70\" x=\"765\" y=\"-535\"> <animate attributeName=\"opacity\" dur=\"0.8400000000000001s\" keyTimes=\"0.0;0.25;1.0\" repeatCount=\"indefinite\" values=\"0.2;0.2;0.2\"/> </rect>\n",
       "<rect fill=\"#84A1AE\" height=\"70\" opacity=\"0.2\" rx=\"15\" width=\"70\" x=\"765\" y=\"-635\"> <animate attributeName=\"opacity\" dur=\"0.8400000000000001s\" keyTimes=\"0.0;0.25;0.5;1.0\" repeatCount=\"indefinite\" values=\"0.2;0.2;1.0;1.0\"/> </rect>\n",
       "<rect fill=\"#84A1AE\" height=\"70\" rx=\"15\" width=\"70\" x=\"765\" y=\"-1435\"> <animate attributeName=\"opacity\" dur=\"0.8400000000000001s\" keyTimes=\"0.0;0.25;1.0\" repeatCount=\"indefinite\" values=\"1.0;1.0;1.0\"/> </rect>\n",
       "<rect fill=\"#84A1AE\" height=\"70\" opacity=\"0.2\" rx=\"15\" width=\"70\" x=\"865\" y=\"-535\"> <animate attributeName=\"opacity\" dur=\"0.8400000000000001s\" keyTimes=\"0.0;0.25;1.0\" repeatCount=\"indefinite\" values=\"0.2;0.2;0.2\"/> </rect>\n",
       "<rect fill=\"#84A1AE\" height=\"70\" rx=\"15\" width=\"70\" x=\"865\" y=\"-735\"> <animate attributeName=\"opacity\" dur=\"0.8400000000000001s\" keyTimes=\"0.0;0.25;1.0\" repeatCount=\"indefinite\" values=\"1.0;1.0;1.0\"/> </rect>\n",
       "<rect fill=\"#84A1AE\" height=\"70\" rx=\"15\" width=\"70\" x=\"865\" y=\"-1035\"> <animate attributeName=\"opacity\" dur=\"0.8400000000000001s\" keyTimes=\"0.0;0.25;1.0\" repeatCount=\"indefinite\" values=\"1.0;1.0;1.0\"/> </rect>\n",
       "<rect fill=\"#84A1AE\" height=\"70\" rx=\"15\" width=\"70\" x=\"865\" y=\"-1435\"> <animate attributeName=\"opacity\" dur=\"0.8400000000000001s\" keyTimes=\"0.0;0.25;1.0\" repeatCount=\"indefinite\" values=\"1.0;1.0;1.0\"/> </rect>\n",
       "<rect fill=\"#84A1AE\" height=\"70\" opacity=\"0.2\" rx=\"15\" width=\"70\" x=\"965\" y=\"-535\"> <animate attributeName=\"opacity\" dur=\"0.8400000000000001s\" keyTimes=\"0.0;0.25;1.0\" repeatCount=\"indefinite\" values=\"0.2;0.2;0.2\"/> </rect>\n",
       "<rect fill=\"#84A1AE\" height=\"70\" rx=\"15\" width=\"70\" x=\"965\" y=\"-1235\"> <animate attributeName=\"opacity\" dur=\"0.8400000000000001s\" keyTimes=\"0.0;0.25;1.0\" repeatCount=\"indefinite\" values=\"1.0;1.0;1.0\"/> </rect>\n",
       "<rect fill=\"#84A1AE\" height=\"70\" rx=\"15\" width=\"70\" x=\"965\" y=\"-1435\"> <animate attributeName=\"opacity\" dur=\"0.8400000000000001s\" keyTimes=\"0.0;0.25;1.0\" repeatCount=\"indefinite\" values=\"1.0;1.0;1.0\"/> </rect>\n",
       "<rect fill=\"#84A1AE\" height=\"70\" opacity=\"0.2\" rx=\"15\" width=\"70\" x=\"1065\" y=\"-535\"> <animate attributeName=\"opacity\" dur=\"0.8400000000000001s\" keyTimes=\"0.0;0.25;1.0\" repeatCount=\"indefinite\" values=\"0.2;0.2;0.2\"/> </rect>\n",
       "<rect fill=\"#84A1AE\" height=\"70\" rx=\"15\" width=\"70\" x=\"1065\" y=\"-735\"> <animate attributeName=\"opacity\" dur=\"0.8400000000000001s\" keyTimes=\"0.0;0.25;1.0\" repeatCount=\"indefinite\" values=\"1.0;1.0;1.0\"/> </rect>\n",
       "<rect fill=\"#84A1AE\" height=\"70\" rx=\"15\" width=\"70\" x=\"1065\" y=\"-935\"> <animate attributeName=\"opacity\" dur=\"0.8400000000000001s\" keyTimes=\"0.0;0.25;1.0\" repeatCount=\"indefinite\" values=\"1.0;1.0;1.0\"/> </rect>\n",
       "<rect fill=\"#84A1AE\" height=\"70\" rx=\"15\" width=\"70\" x=\"1065\" y=\"-1135\"> <animate attributeName=\"opacity\" dur=\"0.8400000000000001s\" keyTimes=\"0.0;0.25;1.0\" repeatCount=\"indefinite\" values=\"1.0;1.0;1.0\"/> </rect>\n",
       "<rect fill=\"#84A1AE\" height=\"70\" rx=\"15\" width=\"70\" x=\"1065\" y=\"-1435\"> <animate attributeName=\"opacity\" dur=\"0.8400000000000001s\" keyTimes=\"0.0;0.25;1.0\" repeatCount=\"indefinite\" values=\"1.0;1.0;1.0\"/> </rect>\n",
       "<rect fill=\"#84A1AE\" height=\"70\" opacity=\"0.2\" rx=\"15\" width=\"70\" x=\"1165\" y=\"-535\"> <animate attributeName=\"opacity\" dur=\"0.8400000000000001s\" keyTimes=\"0.0;0.25;1.0\" repeatCount=\"indefinite\" values=\"0.2;0.2;0.2\"/> </rect>\n",
       "<rect fill=\"#84A1AE\" height=\"70\" opacity=\"0.2\" rx=\"15\" width=\"70\" x=\"1165\" y=\"-635\"> <animate attributeName=\"opacity\" dur=\"0.8400000000000001s\" keyTimes=\"0.0;0.25;0.5;1.0\" repeatCount=\"indefinite\" values=\"0.2;0.2;1.0;1.0\"/> </rect>\n",
       "<rect fill=\"#84A1AE\" height=\"70\" rx=\"15\" width=\"70\" x=\"1165\" y=\"-835\"> <animate attributeName=\"opacity\" dur=\"0.8400000000000001s\" keyTimes=\"0.0;0.25;1.0\" repeatCount=\"indefinite\" values=\"1.0;1.0;1.0\"/> </rect>\n",
       "<rect fill=\"#84A1AE\" height=\"70\" rx=\"15\" width=\"70\" x=\"1165\" y=\"-1435\"> <animate attributeName=\"opacity\" dur=\"0.8400000000000001s\" keyTimes=\"0.0;0.25;1.0\" repeatCount=\"indefinite\" values=\"1.0;1.0;1.0\"/> </rect>\n",
       "<rect fill=\"#84A1AE\" height=\"70\" opacity=\"0.2\" rx=\"15\" width=\"70\" x=\"1265\" y=\"-535\"> <animate attributeName=\"opacity\" dur=\"0.8400000000000001s\" keyTimes=\"0.0;0.25;1.0\" repeatCount=\"indefinite\" values=\"0.2;0.2;0.2\"/> </rect>\n",
       "<rect fill=\"#84A1AE\" height=\"70\" opacity=\"0.2\" rx=\"15\" width=\"70\" x=\"1265\" y=\"-635\"> <animate attributeName=\"opacity\" dur=\"0.8400000000000001s\" keyTimes=\"0.0;0.25;0.5;1.0\" repeatCount=\"indefinite\" values=\"0.2;0.2;1.0;1.0\"/> </rect>\n",
       "<rect fill=\"#84A1AE\" height=\"70\" rx=\"15\" width=\"70\" x=\"1265\" y=\"-1035\"> <animate attributeName=\"opacity\" dur=\"0.8400000000000001s\" keyTimes=\"0.0;0.25;1.0\" repeatCount=\"indefinite\" values=\"1.0;1.0;1.0\"/> </rect>\n",
       "<rect fill=\"#84A1AE\" height=\"70\" rx=\"15\" width=\"70\" x=\"1265\" y=\"-1335\"> <animate attributeName=\"opacity\" dur=\"0.8400000000000001s\" keyTimes=\"0.0;0.25;1.0\" repeatCount=\"indefinite\" values=\"1.0;1.0;1.0\"/> </rect>\n",
       "<rect fill=\"#84A1AE\" height=\"70\" rx=\"15\" width=\"70\" x=\"1265\" y=\"-1435\"> <animate attributeName=\"opacity\" dur=\"0.8400000000000001s\" keyTimes=\"0.0;0.25;1.0\" repeatCount=\"indefinite\" values=\"1.0;1.0;1.0\"/> </rect>\n",
       "<rect fill=\"#84A1AE\" height=\"70\" opacity=\"0.2\" rx=\"15\" width=\"70\" x=\"1365\" y=\"-535\"> <animate attributeName=\"opacity\" dur=\"0.8400000000000001s\" keyTimes=\"0.0;0.25;1.0\" repeatCount=\"indefinite\" values=\"0.2;0.2;0.2\"/> </rect>\n",
       "<rect fill=\"#84A1AE\" height=\"70\" opacity=\"0.2\" rx=\"15\" width=\"70\" x=\"1365\" y=\"-635\"> <animate attributeName=\"opacity\" dur=\"0.8400000000000001s\" keyTimes=\"0.0;0.25;0.5;1.0\" repeatCount=\"indefinite\" values=\"0.2;0.2;1.0;1.0\"/> </rect>\n",
       "<rect fill=\"#84A1AE\" height=\"70\" rx=\"15\" width=\"70\" x=\"1365\" y=\"-735\"> <animate attributeName=\"opacity\" dur=\"0.8400000000000001s\" keyTimes=\"0.0;0.25;1.0\" repeatCount=\"indefinite\" values=\"1.0;1.0;1.0\"/> </rect>\n",
       "<rect fill=\"#84A1AE\" height=\"70\" rx=\"15\" width=\"70\" x=\"1365\" y=\"-835\"> <animate attributeName=\"opacity\" dur=\"0.8400000000000001s\" keyTimes=\"0.0;0.25;1.0\" repeatCount=\"indefinite\" values=\"1.0;1.0;1.0\"/> </rect>\n",
       "<rect fill=\"#84A1AE\" height=\"70\" rx=\"15\" width=\"70\" x=\"1365\" y=\"-935\"> <animate attributeName=\"opacity\" dur=\"0.8400000000000001s\" keyTimes=\"0.0;0.25;1.0\" repeatCount=\"indefinite\" values=\"1.0;1.0;1.0\"/> </rect>\n",
       "<rect fill=\"#84A1AE\" height=\"70\" rx=\"15\" width=\"70\" x=\"1365\" y=\"-1035\"> <animate attributeName=\"opacity\" dur=\"0.8400000000000001s\" keyTimes=\"0.0;0.25;1.0\" repeatCount=\"indefinite\" values=\"1.0;1.0;1.0\"/> </rect>\n",
       "<rect fill=\"#84A1AE\" height=\"70\" rx=\"15\" width=\"70\" x=\"1365\" y=\"-1135\"> <animate attributeName=\"opacity\" dur=\"0.8400000000000001s\" keyTimes=\"0.0;0.25;1.0\" repeatCount=\"indefinite\" values=\"1.0;1.0;1.0\"/> </rect>\n",
       "<rect fill=\"#84A1AE\" height=\"70\" rx=\"15\" width=\"70\" x=\"1365\" y=\"-1235\"> <animate attributeName=\"opacity\" dur=\"0.8400000000000001s\" keyTimes=\"0.0;0.25;1.0\" repeatCount=\"indefinite\" values=\"1.0;1.0;1.0\"/> </rect>\n",
       "<rect fill=\"#84A1AE\" height=\"70\" rx=\"15\" width=\"70\" x=\"1365\" y=\"-1335\"> <animate attributeName=\"opacity\" dur=\"0.8400000000000001s\" keyTimes=\"0.0;0.25;1.0\" repeatCount=\"indefinite\" values=\"1.0;1.0;1.0\"/> </rect>\n",
       "<rect fill=\"#84A1AE\" height=\"70\" rx=\"15\" width=\"70\" x=\"1365\" y=\"-1435\"> <animate attributeName=\"opacity\" dur=\"0.8400000000000001s\" keyTimes=\"0.0;0.25;1.0\" repeatCount=\"indefinite\" values=\"1.0;1.0;1.0\"/> </rect>\n",
       "<circle cx=\"1200\" cy=\"-1200\" fill=\"#c1433c\" r=\"35\"> <animate attributeName=\"cy\" dur=\"0.8400000000000001s\" keyTimes=\"0.0;0.25;0.5;1.0\" repeatCount=\"indefinite\" values=\"-1200;-1200;-1100;-1100\"/>\n",
       "<animate attributeName=\"cx\" dur=\"0.8400000000000001s\" keyTimes=\"0.0;0.25;0.5;0.75;1.0\" repeatCount=\"indefinite\" values=\"1200;1200;1200;1300;1300\"/>\n",
       "<animate attributeName=\"visibility\" dur=\"0.8400000000000001s\" keyTimes=\"0.0;0.25;0.5;0.75;1.0\" repeatCount=\"indefinite\" values=\"visible;visible;visible;hidden;hidden\"/>\n",
       "<animate attributeName=\"opacity\" dur=\"0.8400000000000001s\" keyTimes=\"0.0;0.25;1.0\" repeatCount=\"indefinite\" values=\"1.0;1.0;1.0\"/> </circle>\n",
       "<circle cx=\"1300\" cy=\"-1100\" fill=\"none\" r=\"35\" stroke=\"#c1433c\" stroke-width=\"10\"> <animate attributeName=\"visibility\" dur=\"0.8400000000000001s\" keyTimes=\"0.0;0.25;0.5;0.75;1.0\" repeatCount=\"indefinite\" values=\"visible;visible;visible;hidden;hidden\"/> </circle>\n",
       "<rect fill=\"none\" height=\"1090\" rx=\"15\" stroke=\"#c1433c\" stroke-dasharray=\"25\" stroke-width=\"10\" width=\"1090\" x=\"655\" y=\"-1745\"> <animate attributeName=\"x\" dur=\"0.8400000000000001s\" keyTimes=\"0.0;0.25;0.5;0.75;1.0\" repeatCount=\"indefinite\" values=\"655;655;655;755;755\"/>\n",
       "<animate attributeName=\"y\" dur=\"0.8400000000000001s\" keyTimes=\"0.0;0.25;0.5;1.0\" repeatCount=\"indefinite\" values=\"-1745;-1745;-1645;-1645\"/>\n",
       "<animate attributeName=\"visibility\" dur=\"0.8400000000000001s\" keyTimes=\"0.0;0.25;0.5;0.75;1.0\" repeatCount=\"indefinite\" values=\"visible;visible;visible;hidden;hidden\"/> </rect>\n",
       "</svg>"
      ],
      "text/plain": [
       "<IPython.core.display.SVG object>"
      ]
     },
     "metadata": {},
     "output_type": "display_data"
    }
   ],
   "source": [
    "env.save_animation(\"render.svg\", AnimationConfig(egocentric_idx=0))\n",
    "display(SVG('render.svg'))"
   ]
  },
  {
   "cell_type": "code",
   "execution_count": null,
   "metadata": {},
   "outputs": [],
   "source": []
  }
 ],
 "metadata": {
  "kernelspec": {
   "display_name": "rlenv",
   "language": "python",
   "name": "python3"
  },
  "language_info": {
   "codemirror_mode": {
    "name": "ipython",
    "version": 3
   },
   "file_extension": ".py",
   "mimetype": "text/x-python",
   "name": "python",
   "nbconvert_exporter": "python",
   "pygments_lexer": "ipython3",
   "version": "3.9.18"
  }
 },
 "nbformat": 4,
 "nbformat_minor": 2
}
