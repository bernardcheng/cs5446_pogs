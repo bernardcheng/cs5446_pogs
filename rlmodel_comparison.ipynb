{
 "cells": [
  {
   "cell_type": "code",
   "execution_count": 2,
   "metadata": {},
   "outputs": [],
   "source": [
    "from lib.utils import *\n",
    "from scipy.stats import mannwhitneyu\n",
    "\n",
    "SAVE_METRICS_PATH = 'saved/evaluation_metrics.yml'"
   ]
  },
  {
   "cell_type": "markdown",
   "metadata": {},
   "source": [
    "### Statistical Test: Mann-Whitney U test\n",
    "Purpose:\n",
    "* To test if distributions of step_array obtained 2 different RL Model evaluation are different\n",
    "\n",
    "References:\n",
    "* https://docs.scipy.org/doc/scipy/reference/generated/scipy.stats.mannwhitneyu.html\n",
    "* https://psych.unl.edu/psycrs/handcomp/hcmann.PDF"
   ]
  },
  {
   "cell_type": "code",
   "execution_count": 3,
   "metadata": {},
   "outputs": [],
   "source": [
    "model1_log = get_model_log('DQN', SAVE_METRICS_PATH)\n",
    "model2_log = get_model_log('DQN', SAVE_METRICS_PATH)"
   ]
  },
  {
   "cell_type": "code",
   "execution_count": 4,
   "metadata": {},
   "outputs": [
    {
     "data": {
      "text/plain": [
       "MannwhitneyuResult(statistic=12.5, pvalue=1.0)"
      ]
     },
     "execution_count": 4,
     "metadata": {},
     "output_type": "execute_result"
    }
   ],
   "source": [
    "# sample data of completion runs\n",
    "grp1 = model1_log['step_array']\n",
    "grp2 = model2_log['step_array']\n",
    "\n",
    "mannwhitneyu(grp1, grp2, alternative='two-sided')"
   ]
  },
  {
   "cell_type": "markdown",
   "metadata": {},
   "source": [
    "### Statistical Test: Binomial test (WIP)\n",
    "Purpose:\n",
    "* To test if success rates obtained RL Model evaluation\n",
    "\n",
    "References:\n",
    "* https://docs.scipy.org/doc/scipy/reference/generated/scipy.stats.binomtest.html"
   ]
  },
  {
   "cell_type": "code",
   "execution_count": 5,
   "metadata": {},
   "outputs": [],
   "source": [
    "from scipy.stats import binomtest"
   ]
  },
  {
   "cell_type": "code",
   "execution_count": 6,
   "metadata": {},
   "outputs": [
    {
     "data": {
      "text/plain": [
       "0.9762889173365231"
      ]
     },
     "execution_count": 6,
     "metadata": {},
     "output_type": "execute_result"
    }
   ],
   "source": [
    "result = binomtest(len(grp1), n=100, p=0.1, alternative='greater')\n",
    "result.pvalue"
   ]
  },
  {
   "cell_type": "code",
   "execution_count": null,
   "metadata": {},
   "outputs": [],
   "source": []
  }
 ],
 "metadata": {
  "kernelspec": {
   "display_name": "rlenv",
   "language": "python",
   "name": "python3"
  },
  "language_info": {
   "codemirror_mode": {
    "name": "ipython",
    "version": 3
   },
   "file_extension": ".py",
   "mimetype": "text/x-python",
   "name": "python",
   "nbconvert_exporter": "python",
   "pygments_lexer": "ipython3",
   "version": "3.10.13"
  }
 },
 "nbformat": 4,
 "nbformat_minor": 2
}
