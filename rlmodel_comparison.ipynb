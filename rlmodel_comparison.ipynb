{
 "cells": [
  {
   "cell_type": "code",
   "execution_count": 22,
   "metadata": {},
   "outputs": [],
   "source": [
    "import yaml\n",
    "from os.path import isfile\n",
    "from itertools import combinations\n",
    "from scipy.stats import mannwhitneyu, binomtest\n",
    "\n",
    "from lib.utils import * # Import custom utility functions\n",
    "\n",
    "SAVE_METRICS_PATH = 'saved/evaluation_metrics.yml'\n",
    "\n",
    "if isfile(SAVE_METRICS_PATH):\n",
    "    with open(SAVE_METRICS_PATH) as file:\n",
    "        ALL_MODEL_METRICS = yaml.load(file, Loader=yaml.FullLoader)\n",
    "\n",
    "MODEL_LIST = list(ALL_MODEL_METRICS.keys())"
   ]
  },
  {
   "cell_type": "markdown",
   "metadata": {},
   "source": [
    "### Statistical Test: Mann-Whitney U test\n",
    "Purpose:\n",
    "* To test if distributions of `step_array` obtained from 2 different RL Model evaluations are different\n",
    "\n",
    "Null hypothesis,\n",
    "$H_0:$ The two sample populations have the same distribution of scores.\n",
    "\n",
    "References:\n",
    "* https://docs.scipy.org/doc/scipy/reference/generated/scipy.stats.mannwhitneyu.html\n",
    "* https://psych.unl.edu/psycrs/handcomp/hcmann.PDF"
   ]
  },
  {
   "cell_type": "code",
   "execution_count": 45,
   "metadata": {},
   "outputs": [
    {
     "name": "stdout",
     "output_type": "stream",
     "text": [
      "DQN_A - DQN_B:\n",
      "\n",
      "      Test Statistic: 45148.5\n",
      "  \n",
      "      P-Value: 2.370185414934002e-24\n",
      "\n",
      "      Reject Null Hypothesis: False\n",
      "    \n",
      "DQN_A - DQN_C:\n",
      "\n",
      "      Test Statistic: 1928.5\n",
      "  \n",
      "      P-Value: 1.8810262352977872e-07\n",
      "\n",
      "      Reject Null Hypothesis: False\n",
      "    \n",
      "DQN_B - DQN_C:\n",
      "\n",
      "      Test Statistic: 3701.5\n",
      "  \n",
      "      P-Value: 1.8724641721736752e-59\n",
      "\n",
      "      Reject Null Hypothesis: False\n",
      "    \n"
     ]
    }
   ],
   "source": [
    "# Calculate Pairwise Test Statistics & P-Values\n",
    "\n",
    "threshold = 0.05 # if p-value > 0.05 -> we do not have enough evidence to reject Null Hypothesis\n",
    "\n",
    "for model1, model2 in list(combinations(MODEL_LIST, 2)):\n",
    "    model1_step_array = all_model_metrics[model1]['step_array']\n",
    "    model2_step_array = all_model_metrics[model2]['step_array']\n",
    "    stat_test = mannwhitneyu(model1_step_array, model2_step_array, alternative='two-sided')\n",
    "\n",
    "    reject_h0 = stat_test.pvalue < threshold\n",
    "\n",
    "    print(f\"\"\"{model1} - {model2}:\\n\n",
    "      Test Statistic: {stat_test.statistic}\\n  \n",
    "      P-Value: {stat_test.pvalue}\\n\n",
    "      Reject Null Hypothesis: {reject_h0}\n",
    "    \"\"\")\n"
   ]
  },
  {
   "cell_type": "markdown",
   "metadata": {},
   "source": [
    "### Statistical Test: Vargha and Delaney's (A12) statistic\n",
    "\n",
    "Reference: https://gist.github.com/jacksonpradolima/f9b19d65b7f16603c837024d5f8c8a65"
   ]
  },
  {
   "cell_type": "code",
   "execution_count": 44,
   "metadata": {},
   "outputs": [],
   "source": [
    "from lib.stats import *"
   ]
  },
  {
   "cell_type": "code",
   "execution_count": 43,
   "metadata": {},
   "outputs": [
    {
     "name": "stdout",
     "output_type": "stream",
     "text": [
      "(0.5, 'negligible')\n"
     ]
    }
   ],
   "source": [
    "rewards1 = [0.12, 0.5, 0.8, -0.4, -1.03]\n",
    "rewards2 = [0.7, 0.2, 0.4, -0.4, -0.77]\n",
    "\n",
    "print(VD_A(rewards1, rewards2))"
   ]
  },
  {
   "cell_type": "code",
   "execution_count": null,
   "metadata": {},
   "outputs": [],
   "source": []
  }
 ],
 "metadata": {
  "kernelspec": {
   "display_name": "rlenv",
   "language": "python",
   "name": "python3"
  },
  "language_info": {
   "codemirror_mode": {
    "name": "ipython",
    "version": 3
   },
   "file_extension": ".py",
   "mimetype": "text/x-python",
   "name": "python",
   "nbconvert_exporter": "python",
   "pygments_lexer": "ipython3",
   "version": "3.10.13"
  }
 },
 "nbformat": 4,
 "nbformat_minor": 2
}
